{
 "cells": [
  {
   "cell_type": "code",
   "execution_count": null,
   "id": "0df8d027",
   "metadata": {},
   "outputs": [],
   "source": []
  },
  {
   "cell_type": "code",
   "execution_count": 36,
   "id": "d6ca9d17",
   "metadata": {},
   "outputs": [
    {
     "name": "stdout",
     "output_type": "stream",
     "text": [
      "Python:Exercises::PHP:exercises:\n"
     ]
    }
   ],
   "source": [
    "\n",
    "#Question 1\n",
    "\n",
    "def replace_space_comma_dot_with_colon(input_text):\n",
    "    replacement_text = re.sub(r'[ ,.]', ':', input_text)\n",
    "    return replacement_text\n",
    "\n",
    "import re\n",
    "\n",
    "sample_text = 'Python Exercises, PHP exercises.'\n",
    "output_text = replace_space_comma_dot_with_colon(sample_text)\n",
    "\n",
    "print(output_text)\n"
   ]
  },
  {
   "cell_type": "code",
   "execution_count": 2,
   "id": "51925171",
   "metadata": {},
   "outputs": [
    {
     "name": "stdout",
     "output_type": "stream",
     "text": [
      "['Apples', 'are', 'awesome', 'and', 'elephants', 'are', 'enormous']\n"
     ]
    }
   ],
   "source": [
    "#Question 2\n",
    "import re\n",
    "\n",
    "def find_words_starting_with_a_or_e(input_string):\n",
    "    words = re.findall(r'\\b[aAeE]\\w+', input_string)\n",
    "    return words\n",
    "\n",
    "sample_string = \"Apples are awesome and elephants are enormous.\"\n",
    "result = find_words_starting_with_a_or_e(sample_string)\n",
    "print(result)"
   ]
  },
  {
   "cell_type": "code",
   "execution_count": 3,
   "id": "e12c8555",
   "metadata": {},
   "outputs": [
    {
     "name": "stdout",
     "output_type": "stream",
     "text": [
      "['Python', 'powerful', 'versatile', 'programming', 'language']\n"
     ]
    }
   ],
   "source": [
    "#Question 3\n",
    "import re\n",
    "\n",
    "def find_words_at_least_4_chars(input_string):\n",
    "    pattern = re.compile(r'\\b\\w{4,}\\b')\n",
    "    words = pattern.findall(input_string)\n",
    "    return words\n",
    "\n",
    "sample_string = \"Python is a powerful and versatile programming language.\"\n",
    "result = find_words_at_least_4_chars(sample_string)\n",
    "print(result)"
   ]
  },
  {
   "cell_type": "code",
   "execution_count": 4,
   "id": "3c92a979",
   "metadata": {},
   "outputs": [
    {
     "name": "stdout",
     "output_type": "stream",
     "text": [
      "['This', 'text', 'with', 'words']\n"
     ]
    }
   ],
   "source": [
    "#Question 4\n",
    "\n",
    "import re\n",
    "\n",
    "def find_words_3_4_5_chars(input_string):\n",
    "    pattern = re.compile(r'\\b\\w{3,5}\\b')\n",
    "    words = pattern.findall(input_string)\n",
    "    return words\n",
    "\n",
    "sample_string = \"This is a sample text with words of varying lengths.\"\n",
    "result = find_words_3_4_5_chars(sample_string)\n",
    "print(result)"
   ]
  },
  {
   "cell_type": "code",
   "execution_count": 7,
   "id": "2a1fe86a",
   "metadata": {},
   "outputs": [
    {
     "name": "stdout",
     "output_type": "stream",
     "text": [
      "example \n",
      "hr@fliprobo \n",
      "github \n",
      "Hello Data Science World\n",
      "Data Scientist\n"
     ]
    }
   ],
   "source": [
    "#Question 5\n",
    "import re\n",
    "\n",
    "def remove_parentheses(strings_list):\n",
    "    pattern = re.compile(r'\\((.*?)\\)')\n",
    "    result_list = [pattern.sub('', s) for s in strings_list]\n",
    "    return result_list\n",
    "\n",
    "sample_text = [\n",
    "    \"example (.com)\",\n",
    "    \"hr@fliprobo (.com)\",\n",
    "    \"github (.com)\",\n",
    "    \"Hello Data Science World\",\n",
    "    \"Data Scientist\"\n",
    "]\n",
    "\n",
    "result = remove_parentheses(sample_text)\n",
    "for item in result:\n",
    "    print(item)"
   ]
  },
  {
   "cell_type": "code",
   "execution_count": 6,
   "id": "8e3ce693",
   "metadata": {},
   "outputs": [
    {
     "ename": "FileNotFoundError",
     "evalue": "[Errno 2] No such file or directory: 'sample_text.txt'",
     "output_type": "error",
     "traceback": [
      "\u001b[1;31m---------------------------------------------------------------------------\u001b[0m",
      "\u001b[1;31mFileNotFoundError\u001b[0m                         Traceback (most recent call last)",
      "Input \u001b[1;32mIn [6]\u001b[0m, in \u001b[0;36m<cell line: 17>\u001b[1;34m()\u001b[0m\n\u001b[0;32m     14\u001b[0m     \u001b[38;5;28;01mreturn\u001b[39;00m modified_lines\n\u001b[0;32m     16\u001b[0m file_path \u001b[38;5;241m=\u001b[39m \u001b[38;5;124m'\u001b[39m\u001b[38;5;124msample_text.txt\u001b[39m\u001b[38;5;124m'\u001b[39m\n\u001b[1;32m---> 17\u001b[0m result \u001b[38;5;241m=\u001b[39m \u001b[43mremove_parentheses_from_file\u001b[49m\u001b[43m(\u001b[49m\u001b[43mfile_path\u001b[49m\u001b[43m)\u001b[49m\n\u001b[0;32m     18\u001b[0m \u001b[38;5;28;01mfor\u001b[39;00m item \u001b[38;5;129;01min\u001b[39;00m result:\n\u001b[0;32m     19\u001b[0m     \u001b[38;5;28mprint\u001b[39m(item)\n",
      "Input \u001b[1;32mIn [6]\u001b[0m, in \u001b[0;36mremove_parentheses_from_file\u001b[1;34m(file_path)\u001b[0m\n\u001b[0;32m      3\u001b[0m \u001b[38;5;28;01mdef\u001b[39;00m \u001b[38;5;21mremove_parentheses_from_file\u001b[39m(file_path):\n\u001b[1;32m----> 4\u001b[0m     \u001b[38;5;28;01mwith\u001b[39;00m \u001b[38;5;28;43mopen\u001b[39;49m\u001b[43m(\u001b[49m\u001b[43mfile_path\u001b[49m\u001b[43m,\u001b[49m\u001b[43m \u001b[49m\u001b[38;5;124;43m'\u001b[39;49m\u001b[38;5;124;43mr\u001b[39;49m\u001b[38;5;124;43m'\u001b[39;49m\u001b[43m)\u001b[49m \u001b[38;5;28;01mas\u001b[39;00m file:\n\u001b[0;32m      5\u001b[0m         lines \u001b[38;5;241m=\u001b[39m file\u001b[38;5;241m.\u001b[39mreadlines()\n\u001b[0;32m      7\u001b[0m     pattern \u001b[38;5;241m=\u001b[39m re\u001b[38;5;241m.\u001b[39mcompile(\u001b[38;5;124mr\u001b[39m\u001b[38;5;124m'\u001b[39m\u001b[38;5;124m\\\u001b[39m\u001b[38;5;124m(.*?\u001b[39m\u001b[38;5;124m\\\u001b[39m\u001b[38;5;124m)\u001b[39m\u001b[38;5;124m'\u001b[39m)  \u001b[38;5;66;03m# Regular expression to match and remove parentheses area\u001b[39;00m\n",
      "\u001b[1;31mFileNotFoundError\u001b[0m: [Errno 2] No such file or directory: 'sample_text.txt'"
     ]
    }
   ],
   "source": [
    "#Question 6\n",
    "import re\n",
    "\n",
    "def remove_parentheses_from_file(file_path):\n",
    "    with open(file_path, 'r') as file:\n",
    "        lines = file.readlines()\n",
    "\n",
    "    pattern = re.compile(r'\\(.*?\\)')  # Regular expression to match and remove parentheses area\n",
    "\n",
    "    modified_lines = []\n",
    "    for line in lines:\n",
    "        modified_line = pattern.sub('', line)  # Remove parentheses area using sub()\n",
    "        modified_lines.append(modified_line.strip())  # Remove leading/trailing spaces and add to result list\n",
    "\n",
    "    return modified_lines\n",
    "\n",
    "file_path = 'sample_text.txt'\n",
    "result = remove_parentheses_from_file(file_path)\n",
    "for item in result:\n",
    "    print(item)"
   ]
  },
  {
   "cell_type": "code",
   "execution_count": 8,
   "id": "3395fdf0",
   "metadata": {},
   "outputs": [
    {
     "name": "stdout",
     "output_type": "stream",
     "text": [
      "['Importance', 'Of', 'Regular', 'Expressions', 'In', 'Python']\n"
     ]
    }
   ],
   "source": [
    "#Question 7\n",
    "\n",
    "import re\n",
    "\n",
    "sample_text = \"ImportanceOfRegularExpressionsInPython\"\n",
    "result = re.findall(r'[A-Z][a-z]*', sample_text)\n",
    "\n",
    "print(result)"
   ]
  },
  {
   "cell_type": "code",
   "execution_count": 9,
   "id": "50bd03c1",
   "metadata": {},
   "outputs": [
    {
     "name": "stdout",
     "output_type": "stream",
     "text": [
      "RegularExpression 1IsAn 2ImportantTopic 3InPython\n"
     ]
    }
   ],
   "source": [
    "#Question 8\n",
    "\n",
    "import re\n",
    "\n",
    "def insert_spaces_before_numbers(text):\n",
    "    pattern = re.compile(r'(\\D)(\\d)')\n",
    "    result = pattern.sub(r'\\1 \\2', text)\n",
    "    return result\n",
    "\n",
    "sample_text = \"RegularExpression1IsAn2ImportantTopic3InPython\"\n",
    "output = insert_spaces_before_numbers(sample_text)\n",
    "print(output)\n"
   ]
  },
  {
   "cell_type": "code",
   "execution_count": 10,
   "id": "83734e76",
   "metadata": {},
   "outputs": [
    {
     "name": "stdout",
     "output_type": "stream",
     "text": [
      "Regular Expression 1Is An 2Important Topic 3In Python\n"
     ]
    }
   ],
   "source": [
    "#Question 9\n",
    "\n",
    "import re\n",
    "\n",
    "def insert_spaces(text):\n",
    "    pattern = re.compile(r'(\\D)([A-Z0-9])')\n",
    "    result = pattern.sub(r'\\1 \\2', text)\n",
    "    return result\n",
    "\n",
    "sample_text = \"RegularExpression1IsAn2ImportantTopic3InPython\"\n",
    "output = insert_spaces(sample_text)\n",
    "print(output)"
   ]
  },
  {
   "cell_type": "code",
   "execution_count": 12,
   "id": "30e9f548",
   "metadata": {},
   "outputs": [
    {
     "ename": "FileNotFoundError",
     "evalue": "[Errno 2] No such file or directory: 'sample_text.txt'",
     "output_type": "error",
     "traceback": [
      "\u001b[1;31m---------------------------------------------------------------------------\u001b[0m",
      "\u001b[1;31mFileNotFoundError\u001b[0m                         Traceback (most recent call last)",
      "Input \u001b[1;32mIn [12]\u001b[0m, in \u001b[0;36m<cell line: 9>\u001b[1;34m()\u001b[0m\n\u001b[0;32m      6\u001b[0m     \u001b[38;5;28;01mreturn\u001b[39;00m emails\n\u001b[0;32m      8\u001b[0m file_path \u001b[38;5;241m=\u001b[39m \u001b[38;5;124m'\u001b[39m\u001b[38;5;124msample_text.txt\u001b[39m\u001b[38;5;124m'\u001b[39m\n\u001b[1;32m----> 9\u001b[0m \u001b[38;5;28;01mwith\u001b[39;00m \u001b[38;5;28;43mopen\u001b[39;49m\u001b[43m(\u001b[49m\u001b[43mfile_path\u001b[49m\u001b[43m,\u001b[49m\u001b[43m \u001b[49m\u001b[38;5;124;43m'\u001b[39;49m\u001b[38;5;124;43mr\u001b[39;49m\u001b[38;5;124;43m'\u001b[39;49m\u001b[43m)\u001b[49m \u001b[38;5;28;01mas\u001b[39;00m file:\n\u001b[0;32m     10\u001b[0m     content \u001b[38;5;241m=\u001b[39m file\u001b[38;5;241m.\u001b[39mread()\n\u001b[0;32m     12\u001b[0m extracted_emails \u001b[38;5;241m=\u001b[39m extract_emails_from_text(content)\n",
      "\u001b[1;31mFileNotFoundError\u001b[0m: [Errno 2] No such file or directory: 'sample_text.txt'"
     ]
    }
   ],
   "source": [
    "#Question 10\n",
    "\n",
    "import re\n",
    "\n",
    "def extract_emails_from_text(text):\n",
    "    pattern = re.compile(r'\\b[A-Za-z0-9._%+-]+@[A-Za-z0-9.-]+\\.[A-Za-z]{2,7}\\b')\n",
    "    emails = pattern.findall(text)\n",
    "    return emails\n",
    "\n",
    "file_path = 'sample_text.txt'\n",
    "with open(file_path, 'r') as file:\n",
    "    content = file.read()\n",
    "\n",
    "extracted_emails = extract_emails_from_text(content)\n",
    "\n",
    "for email in extracted_emails:\n",
    "    print(email)\n"
   ]
  },
  {
   "cell_type": "code",
   "execution_count": 13,
   "id": "2b1f17f4",
   "metadata": {},
   "outputs": [
    {
     "name": "stdout",
     "output_type": "stream",
     "text": [
      "'ValidString123' is a valid string.\n",
      "'Invalid_String!' is not a valid string.\n",
      "'Another_Valid_123' is a valid string.\n",
      "'NoSpacesAllowed' is a valid string.\n",
      "'1_StartsWithNumber' is a valid string.\n"
     ]
    }
   ],
   "source": [
    "#Question 11\n",
    "\n",
    "import re\n",
    "\n",
    "def is_valid_string(input_string):\n",
    "    pattern = re.compile(r'^[A-Za-z0-9_]+$')\n",
    "    return bool(pattern.match(input_string))\n",
    "\n",
    "# Test cases\n",
    "test_strings = [\n",
    "    \"ValidString123\",\n",
    "    \"Invalid_String!\",\n",
    "    \"Another_Valid_123\",\n",
    "    \"NoSpacesAllowed\",\n",
    "    \"1_StartsWithNumber\",\n",
    "]\n",
    "\n",
    "for string in test_strings:\n",
    "    if is_valid_string(string):\n",
    "        print(f\"'{string}' is a valid string.\")\n",
    "    else:\n",
    "        print(f\"'{string}' is not a valid string.\")"
   ]
  },
  {
   "cell_type": "code",
   "execution_count": 14,
   "id": "1cdb31d6",
   "metadata": {},
   "outputs": [
    {
     "name": "stdout",
     "output_type": "stream",
     "text": [
      "'12345' starts with the number 123.\n",
      "'456abc' does not start with the number 123.\n",
      "'789test' does not start with the number 123.\n",
      "'0start' does not start with the number 123.\n"
     ]
    }
   ],
   "source": [
    "#Question 12\n",
    "\n",
    "def starts_with_number(input_string, target_number):\n",
    "    return input_string.startswith(str(target_number))\n",
    "\n",
    "# Test cases\n",
    "test_strings = [\n",
    "    \"12345\",\n",
    "    \"456abc\",\n",
    "    \"789test\",\n",
    "    \"0start\",\n",
    "]\n",
    "\n",
    "target_number = 123\n",
    "\n",
    "for string in test_strings:\n",
    "    if starts_with_number(string, target_number):\n",
    "        print(f\"'{string}' starts with the number {target_number}.\")\n",
    "    else:\n",
    "        print(f\"'{string}' does not start with the number {target_number}.\")"
   ]
  },
  {
   "cell_type": "code",
   "execution_count": 15,
   "id": "5d06a81a",
   "metadata": {},
   "outputs": [
    {
     "name": "stdout",
     "output_type": "stream",
     "text": [
      "192.168.1.1\n"
     ]
    }
   ],
   "source": [
    "#Question 13\n",
    "\n",
    "def remove_leading_zeros(ip_address):\n",
    "    components = ip_address.split('.')\n",
    "    stripped_components = [str(int(component)) for component in components]\n",
    "    return '.'.join(stripped_components)\n",
    "\n",
    "# Test case\n",
    "ip_address = \"192.168.001.001\"\n",
    "result = remove_leading_zeros(ip_address)\n",
    "print(result)"
   ]
  },
  {
   "cell_type": "code",
   "execution_count": 17,
   "id": "2a6eda92",
   "metadata": {},
   "outputs": [
    {
     "ename": "FileNotFoundError",
     "evalue": "[Errno 2] No such file or directory: 'sample_text.txt'",
     "output_type": "error",
     "traceback": [
      "\u001b[1;31m---------------------------------------------------------------------------\u001b[0m",
      "\u001b[1;31mFileNotFoundError\u001b[0m                         Traceback (most recent call last)",
      "Input \u001b[1;32mIn [17]\u001b[0m, in \u001b[0;36m<cell line: 12>\u001b[1;34m()\u001b[0m\n\u001b[0;32m      9\u001b[0m     \u001b[38;5;28;01mreturn\u001b[39;00m date_strings\n\u001b[0;32m     11\u001b[0m file_path \u001b[38;5;241m=\u001b[39m \u001b[38;5;124m'\u001b[39m\u001b[38;5;124msample_text.txt\u001b[39m\u001b[38;5;124m'\u001b[39m\n\u001b[1;32m---> 12\u001b[0m date_strings \u001b[38;5;241m=\u001b[39m \u001b[43mextract_date_strings\u001b[49m\u001b[43m(\u001b[49m\u001b[43mfile_path\u001b[49m\u001b[43m)\u001b[49m\n\u001b[0;32m     14\u001b[0m \u001b[38;5;28;01mfor\u001b[39;00m date_string \u001b[38;5;129;01min\u001b[39;00m date_strings:\n\u001b[0;32m     15\u001b[0m     \u001b[38;5;28mprint\u001b[39m(date_string)\n",
      "Input \u001b[1;32mIn [17]\u001b[0m, in \u001b[0;36mextract_date_strings\u001b[1;34m(file_path)\u001b[0m\n\u001b[0;32m      3\u001b[0m \u001b[38;5;28;01mdef\u001b[39;00m \u001b[38;5;21mextract_date_strings\u001b[39m(file_path):\n\u001b[1;32m----> 4\u001b[0m     \u001b[38;5;28;01mwith\u001b[39;00m \u001b[38;5;28;43mopen\u001b[39;49m\u001b[43m(\u001b[49m\u001b[43mfile_path\u001b[49m\u001b[43m,\u001b[49m\u001b[43m \u001b[49m\u001b[38;5;124;43m'\u001b[39;49m\u001b[38;5;124;43mr\u001b[39;49m\u001b[38;5;124;43m'\u001b[39;49m\u001b[43m)\u001b[49m \u001b[38;5;28;01mas\u001b[39;00m file:\n\u001b[0;32m      5\u001b[0m         content \u001b[38;5;241m=\u001b[39m file\u001b[38;5;241m.\u001b[39mread()\n\u001b[0;32m      7\u001b[0m     pattern \u001b[38;5;241m=\u001b[39m re\u001b[38;5;241m.\u001b[39mcompile(\u001b[38;5;124mr\u001b[39m\u001b[38;5;124m'\u001b[39m\u001b[38;5;124m\\\u001b[39m\u001b[38;5;124mb(?:January|February|March|April|May|June|July|August|September|October|November|December)\u001b[39m\u001b[38;5;124m\\\u001b[39m\u001b[38;5;124ms+\u001b[39m\u001b[38;5;124m\\\u001b[39m\u001b[38;5;124md\u001b[39m\u001b[38;5;124m{\u001b[39m\u001b[38;5;124m1,2}(?:st|nd|rd|th)?\u001b[39m\u001b[38;5;124m\\\u001b[39m\u001b[38;5;124ms+\u001b[39m\u001b[38;5;124m\\\u001b[39m\u001b[38;5;124md\u001b[39m\u001b[38;5;132;01m{4}\u001b[39;00m\u001b[38;5;124m\\\u001b[39m\u001b[38;5;124mb\u001b[39m\u001b[38;5;124m'\u001b[39m)\n",
      "\u001b[1;31mFileNotFoundError\u001b[0m: [Errno 2] No such file or directory: 'sample_text.txt'"
     ]
    }
   ],
   "source": [
    "#Question 14\n",
    "\n",
    "import re\n",
    "\n",
    "def extract_date_strings(file_path):\n",
    "    with open(file_path, 'r') as file:\n",
    "        content = file.read()\n",
    "\n",
    "    pattern = re.compile(r'\\b(?:January|February|March|April|May|June|July|August|September|October|November|December)\\s+\\d{1,2}(?:st|nd|rd|th)?\\s+\\d{4}\\b')\n",
    "    date_strings = pattern.findall(content)\n",
    "    return date_strings\n",
    "\n",
    "file_path = 'sample_text.txt'\n",
    "date_strings = extract_date_strings(file_path)\n",
    "\n",
    "for date_string in date_strings:\n",
    "    print(date_string)"
   ]
  },
  {
   "cell_type": "code",
   "execution_count": 18,
   "id": "05d8163c",
   "metadata": {},
   "outputs": [
    {
     "name": "stdout",
     "output_type": "stream",
     "text": [
      "Found words: ['fox', 'dog']\n"
     ]
    }
   ],
   "source": [
    "#Question 15\n",
    "\n",
    "def search_words(text, searched_words):\n",
    "    found_words = []\n",
    "    for word in searched_words:\n",
    "        if word in text:\n",
    "            found_words.append(word)\n",
    "    return found_words\n",
    "\n",
    "sample_text = 'The quick brown fox jumps over the lazy dog.'\n",
    "searched_words = ['fox', 'dog', 'horse']\n",
    "\n",
    "found_words = search_words(sample_text, searched_words)\n",
    "print(\"Found words:\", found_words)"
   ]
  },
  {
   "cell_type": "code",
   "execution_count": 19,
   "id": "5c2c91e6",
   "metadata": {},
   "outputs": [
    {
     "name": "stdout",
     "output_type": "stream",
     "text": [
      "The word 'fox' was found at locations: [16]\n"
     ]
    }
   ],
   "source": [
    "#Question 16\n",
    "\n",
    "def search_and_locate(text, searched_word):\n",
    "    found_locations = []\n",
    "    start = 0\n",
    "    while True:\n",
    "        index = text.find(searched_word, start)\n",
    "        if index == -1:\n",
    "            break\n",
    "        found_locations.append(index)\n",
    "        start = index + 1\n",
    "    return found_locations\n",
    "\n",
    "sample_text = 'The quick brown fox jumps over the lazy dog.'\n",
    "searched_word = 'fox'\n",
    "\n",
    "found_locations = search_and_locate(sample_text, searched_word)\n",
    "\n",
    "if found_locations:\n",
    "    print(f\"The word '{searched_word}' was found at locations:\", found_locations)\n",
    "else:\n",
    "    print(f\"The word '{searched_word}' was not found in the text.\")\n"
   ]
  },
  {
   "cell_type": "code",
   "execution_count": 20,
   "id": "887ec196",
   "metadata": {},
   "outputs": [
    {
     "name": "stdout",
     "output_type": "stream",
     "text": [
      "Substrings 'exercises' found: ['exercises', 'exercises', 'exercises']\n"
     ]
    }
   ],
   "source": [
    "#Question 17\n",
    "\n",
    "def find_substrings(text, pattern):\n",
    "    found_substrings = []\n",
    "    start = 0\n",
    "    while True:\n",
    "        index = text.find(pattern, start)\n",
    "        if index == -1:\n",
    "            break\n",
    "        found_substrings.append(text[index:index+len(pattern)])\n",
    "        start = index + len(pattern)\n",
    "    return found_substrings\n",
    "\n",
    "sample_text = 'Python exercises, PHP exercises, C# exercises'\n",
    "pattern = 'exercises'\n",
    "\n",
    "found_substrings = find_substrings(sample_text, pattern)\n",
    "\n",
    "if found_substrings:\n",
    "    print(f\"Substrings '{pattern}' found:\", found_substrings)\n",
    "else:\n",
    "    print(f\"Substrings '{pattern}' not found in the text.\")\n"
   ]
  },
  {
   "cell_type": "code",
   "execution_count": 21,
   "id": "a8b97199",
   "metadata": {},
   "outputs": [
    {
     "name": "stdout",
     "output_type": "stream",
     "text": [
      "Occurrences of 'exercises':\n",
      "Position: 7, Substring: exercises\n",
      "Position: 22, Substring: exercises\n",
      "Position: 36, Substring: exercises\n"
     ]
    }
   ],
   "source": [
    "#Question 18\n",
    "\n",
    "def find_occurrences_and_positions(text, pattern):\n",
    "    occurrences = []\n",
    "    start = 0\n",
    "    while True:\n",
    "        index = text.find(pattern, start)\n",
    "        if index == -1:\n",
    "            break\n",
    "        occurrences.append((index, pattern))\n",
    "        start = index + 1\n",
    "    return occurrences\n",
    "\n",
    "sample_text = 'Python exercises, PHP exercises, C# exercises'\n",
    "pattern = 'exercises'\n",
    "\n",
    "occurrences_and_positions = find_occurrences_and_positions(sample_text, pattern)\n",
    "\n",
    "if occurrences_and_positions:\n",
    "    print(f\"Occurrences of '{pattern}':\")\n",
    "    for position, substring in occurrences_and_positions:\n",
    "        print(f\"Position: {position}, Substring: {substring}\")\n",
    "else:\n",
    "    print(f\"Occurrences of '{pattern}' not found in the text.\")\n"
   ]
  },
  {
   "cell_type": "code",
   "execution_count": 22,
   "id": "207c8293",
   "metadata": {},
   "outputs": [
    {
     "name": "stdout",
     "output_type": "stream",
     "text": [
      "Original date (yyyy-mm-dd): 2023-08-07\n",
      "Converted date (dd-mm-yyyy): 07-08-2023\n"
     ]
    }
   ],
   "source": [
    "#Question 19\n",
    "\n",
    "def convert_date_format(date):\n",
    "    parts = date.split('-')\n",
    "    if len(parts) != 3:\n",
    "        return \"Invalid date format\"\n",
    "    year, month, day = parts\n",
    "    return f\"{day}-{month}-{year}\"\n",
    "\n",
    "date_in_yyyy_mm_dd = \"2023-08-07\"\n",
    "date_in_dd_mm_yyyy = convert_date_format(date_in_yyyy_mm_dd)\n",
    "\n",
    "print(f\"Original date (yyyy-mm-dd): {date_in_yyyy_mm_dd}\")\n",
    "print(f\"Converted date (dd-mm-yyyy): {date_in_dd_mm_yyyy}\")\n"
   ]
  },
  {
   "cell_type": "code",
   "execution_count": 23,
   "id": "07dcac29",
   "metadata": {},
   "outputs": [
    {
     "name": "stdout",
     "output_type": "stream",
     "text": [
      "['.34', '.5']\n"
     ]
    }
   ],
   "source": [
    "#Question 20\n",
    "\n",
    "import re\n",
    "\n",
    "def find_decimal_numbers(input_string):\n",
    "    pattern = re.compile(r'\\b\\d+(\\.\\d{1,2})?\\b')\n",
    "    numbers = pattern.findall(input_string)\n",
    "    return numbers\n",
    "\n",
    "sample_string = \"The price is $12.34 and the temperature is 25.5 degrees Celsius.\"\n",
    "result = find_decimal_numbers(sample_string)\n",
    "print(result)\n"
   ]
  },
  {
   "cell_type": "code",
   "execution_count": 24,
   "id": "928d3ea8",
   "metadata": {},
   "outputs": [
    {
     "name": "stdout",
     "output_type": "stream",
     "text": [
      "Number: 12, Position: 14\n",
      "Number: 2, Position: 15\n",
      "Number: 34, Position: 17\n",
      "Number: 4, Position: 18\n",
      "Number: 25, Position: 43\n",
      "Number: 5, Position: 44\n",
      "Number: 5, Position: 46\n"
     ]
    }
   ],
   "source": [
    "#Question 21\n",
    "\n",
    "def separate_numbers_with_positions(input_string):\n",
    "    numbers = []\n",
    "    positions = []\n",
    "    \n",
    "    for index, char in enumerate(input_string):\n",
    "        if char.isdigit():\n",
    "            start = index\n",
    "            while index < len(input_string) and input_string[index].isdigit():\n",
    "                index += 1\n",
    "            end = index\n",
    "            numbers.append(input_string[start:end])\n",
    "            positions.append(start)\n",
    "    \n",
    "    return numbers, positions\n",
    "\n",
    "sample_string = \"The price is $12.34 and the temperature is 25.5 degrees Celsius.\"\n",
    "numbers, positions = separate_numbers_with_positions(sample_string)\n",
    "\n",
    "for num, pos in zip(numbers, positions):\n",
    "    print(f\"Number: {num}, Position: {pos}\")\n"
   ]
  },
  {
   "cell_type": "code",
   "execution_count": 26,
   "id": "9db33cfe",
   "metadata": {},
   "outputs": [
    {
     "name": "stdout",
     "output_type": "stream",
     "text": [
      "The maximum numeric value is: 950\n"
     ]
    }
   ],
   "source": [
    "#Question 22\n",
    "\n",
    "import re\n",
    "\n",
    "def extract_maximum_numeric_value(input_string):\n",
    "    numbers = re.findall(r'\\d+', input_string)\n",
    "    \n",
    "    if numbers:\n",
    "        max_number = max(map(int, numbers))\n",
    "        return max_number\n",
    "    else:\n",
    "        return None\n",
    "\n",
    "sample_string = \"My marks in each semester are: 947, 896, 926, 524, 734, 950, 642\"\n",
    "max_numeric_value = extract_maximum_numeric_value(sample_string)\n",
    "\n",
    "if max_numeric_value is not None:\n",
    "    print(f\"The maximum numeric value is: {max_numeric_value}\")\n",
    "else:\n",
    "    print(\"No numeric values found in the string.\")\n",
    "\n"
   ]
  },
  {
   "cell_type": "code",
   "execution_count": 27,
   "id": "3b5d3940",
   "metadata": {},
   "outputs": [
    {
     "name": "stdout",
     "output_type": "stream",
     "text": [
      "Regular Expression Is An Important Topic In Python\n"
     ]
    }
   ],
   "source": [
    "#Question 23\n",
    "\n",
    "import re\n",
    "\n",
    "def insert_spaces_between_capital_words(input_string):\n",
    "    spaced_string = re.sub(r'(?<=[a-z])(?=[A-Z])', ' ', input_string)\n",
    "    return spaced_string\n",
    "\n",
    "sample_text = \"RegularExpressionIsAnImportantTopicInPython\"\n",
    "result = insert_spaces_between_capital_words(sample_text)\n",
    "print(result)\n"
   ]
  },
  {
   "cell_type": "code",
   "execution_count": 28,
   "id": "738e94b8",
   "metadata": {},
   "outputs": [
    {
     "name": "stdout",
     "output_type": "stream",
     "text": [
      "['This', 'Is', 'Sample', 'Text', 'With', 'Uppercase', 'Letters', 'And', 'Lowercase', 'Letters']\n"
     ]
    }
   ],
   "source": [
    "#Question 24\n",
    "\n",
    "import re\n",
    "\n",
    "pattern = re.compile(r'[A-Z][a-z]+')\n",
    "\n",
    "sample_text = \"This Is A Sample Text With Uppercase Letters And Lowercase Letters.\"\n",
    "result = pattern.findall(sample_text)\n",
    "\n",
    "print(result)\n"
   ]
  },
  {
   "cell_type": "code",
   "execution_count": 29,
   "id": "08b992ee",
   "metadata": {},
   "outputs": [
    {
     "name": "stdout",
     "output_type": "stream",
     "text": [
      "Hello world\n"
     ]
    }
   ],
   "source": [
    "#Question 25\n",
    "\n",
    "import re\n",
    "\n",
    "def remove_continuous_duplicates(sentence):\n",
    "    pattern = re.compile(r'\\b(\\w+)\\s+\\1\\b', re.IGNORECASE)\n",
    "    cleaned_sentence = pattern.sub(r'\\1', sentence)\n",
    "    return cleaned_sentence\n",
    "\n",
    "sample_text = \"Hello hello world world\"\n",
    "result = remove_continuous_duplicates(sample_text)\n",
    "print(result)\n"
   ]
  },
  {
   "cell_type": "code",
   "execution_count": 30,
   "id": "38af5d58",
   "metadata": {},
   "outputs": [
    {
     "name": "stdout",
     "output_type": "stream",
     "text": [
      "'Hello123' is valid.\n",
      "'Regex_123' is valid.\n",
      "'Testing!' is not valid.\n",
      "'123456' is valid.\n",
      "'EndsWithAlphanumeric1' is valid.\n"
     ]
    }
   ],
   "source": [
    "#Question 26\n",
    "\n",
    "import re\n",
    "\n",
    "def is_valid_string(input_string):\n",
    "    pattern = re.compile(r'^.*[a-zA-Z0-9]$')\n",
    "    return bool(pattern.match(input_string))\n",
    "\n",
    "test_strings = [\n",
    "    \"Hello123\",\n",
    "    \"Regex_123\",\n",
    "    \"Testing!\",\n",
    "    \"123456\",\n",
    "    \"EndsWithAlphanumeric1\",\n",
    "]\n",
    "\n",
    "for string in test_strings:\n",
    "    if is_valid_string(string):\n",
    "        print(f\"'{string}' is valid.\")\n",
    "    else:\n",
    "        print(f\"'{string}' is not valid.\")\n"
   ]
  },
  {
   "cell_type": "code",
   "execution_count": 31,
   "id": "8c265507",
   "metadata": {},
   "outputs": [
    {
     "name": "stdout",
     "output_type": "stream",
     "text": [
      "['#Doltiwal', '#xyzabc', '#Demonetization']\n"
     ]
    }
   ],
   "source": [
    "#Question 27\n",
    "\n",
    "import re\n",
    "\n",
    "def extract_hashtags(input_text):\n",
    "    pattern = re.compile(r'#\\w+')\n",
    "    hashtags = pattern.findall(input_text)\n",
    "    return hashtags\n",
    "\n",
    "sample_text = \"\"\"RT @kapil_kausik: #Doltiwal I mean #xyzabc is \"hurt\" by #Demonetization as the same has rendered USELESS <ed><U+00A0><U+00BD><ed><U+00B1><U+0089> \"acquired funds\" No wo\"\"\"\n",
    "hashtags = extract_hashtags(sample_text)\n",
    "\n",
    "print(hashtags)\n"
   ]
  },
  {
   "cell_type": "code",
   "execution_count": 32,
   "id": "72b0a75d",
   "metadata": {},
   "outputs": [
    {
     "name": "stdout",
     "output_type": "stream",
     "text": [
      "@Jags123456 Bharat band on 28??<ed><ed>Those who  are protesting #demonetization  are all different party leaders\n"
     ]
    }
   ],
   "source": [
    "#Question 28\n",
    "\n",
    "import re\n",
    "\n",
    "def remove_unicode_symbols(input_text):\n",
    "    pattern = re.compile(r'<U\\+[0-9A-Fa-f]{4}>')\n",
    "    cleaned_text = pattern.sub('', input_text)\n",
    "    return cleaned_text\n",
    "\n",
    "sample_text = \"@Jags123456 Bharat band on 28??<ed><U+00A0><U+00BD><ed><U+00B8><U+0082>Those who  are protesting #demonetization  are all different party leaders\"\n",
    "cleaned_text = remove_unicode_symbols(sample_text)\n",
    "\n",
    "print(cleaned_text)\n"
   ]
  },
  {
   "cell_type": "code",
   "execution_count": 34,
   "id": "d8b20a6b",
   "metadata": {},
   "outputs": [
    {
     "ename": "FileNotFoundError",
     "evalue": "[Errno 2] No such file or directory: 'sample_text.txt'",
     "output_type": "error",
     "traceback": [
      "\u001b[1;31m---------------------------------------------------------------------------\u001b[0m",
      "\u001b[1;31mFileNotFoundError\u001b[0m                         Traceback (most recent call last)",
      "Input \u001b[1;32mIn [34]\u001b[0m, in \u001b[0;36m<cell line: 12>\u001b[1;34m()\u001b[0m\n\u001b[0;32m      9\u001b[0m     \u001b[38;5;28;01mreturn\u001b[39;00m dates\n\u001b[0;32m     11\u001b[0m file_path \u001b[38;5;241m=\u001b[39m \u001b[38;5;124m'\u001b[39m\u001b[38;5;124msample_text.txt\u001b[39m\u001b[38;5;124m'\u001b[39m\n\u001b[1;32m---> 12\u001b[0m extracted_dates \u001b[38;5;241m=\u001b[39m \u001b[43mextract_dates_from_file\u001b[49m\u001b[43m(\u001b[49m\u001b[43mfile_path\u001b[49m\u001b[43m)\u001b[49m\n\u001b[0;32m     14\u001b[0m \u001b[38;5;28mprint\u001b[39m(extracted_dates)\n",
      "Input \u001b[1;32mIn [34]\u001b[0m, in \u001b[0;36mextract_dates_from_file\u001b[1;34m(file_path)\u001b[0m\n\u001b[0;32m      3\u001b[0m \u001b[38;5;28;01mdef\u001b[39;00m \u001b[38;5;21mextract_dates_from_file\u001b[39m(file_path):\n\u001b[1;32m----> 4\u001b[0m     \u001b[38;5;28;01mwith\u001b[39;00m \u001b[38;5;28;43mopen\u001b[39;49m\u001b[43m(\u001b[49m\u001b[43mfile_path\u001b[49m\u001b[43m,\u001b[49m\u001b[43m \u001b[49m\u001b[38;5;124;43m'\u001b[39;49m\u001b[38;5;124;43mr\u001b[39;49m\u001b[38;5;124;43m'\u001b[39;49m\u001b[43m)\u001b[49m \u001b[38;5;28;01mas\u001b[39;00m file:\n\u001b[0;32m      5\u001b[0m         content \u001b[38;5;241m=\u001b[39m file\u001b[38;5;241m.\u001b[39mread()\n\u001b[0;32m      7\u001b[0m     pattern \u001b[38;5;241m=\u001b[39m re\u001b[38;5;241m.\u001b[39mcompile(\u001b[38;5;124mr\u001b[39m\u001b[38;5;124m'\u001b[39m\u001b[38;5;124m\\\u001b[39m\u001b[38;5;124mb\u001b[39m\u001b[38;5;124m\\\u001b[39m\u001b[38;5;124md\u001b[39m\u001b[38;5;132;01m{2}\u001b[39;00m\u001b[38;5;124m-\u001b[39m\u001b[38;5;124m\\\u001b[39m\u001b[38;5;124md\u001b[39m\u001b[38;5;132;01m{2}\u001b[39;00m\u001b[38;5;124m-\u001b[39m\u001b[38;5;124m\\\u001b[39m\u001b[38;5;124md\u001b[39m\u001b[38;5;132;01m{4}\u001b[39;00m\u001b[38;5;124m\\\u001b[39m\u001b[38;5;124mb\u001b[39m\u001b[38;5;124m'\u001b[39m)\n",
      "\u001b[1;31mFileNotFoundError\u001b[0m: [Errno 2] No such file or directory: 'sample_text.txt'"
     ]
    }
   ],
   "source": [
    "#Question 29\n",
    "\n",
    "import re\n",
    "\n",
    "def extract_dates_from_file(file_path):\n",
    "    with open(file_path, 'r') as file:\n",
    "        content = file.read()\n",
    "\n",
    "    pattern = re.compile(r'\\b\\d{2}-\\d{2}-\\d{4}\\b')\n",
    "    dates = pattern.findall(content)\n",
    "    return dates\n",
    "\n",
    "file_path = 'sample_text.txt'\n",
    "extracted_dates = extract_dates_from_file(file_path)\n",
    "\n",
    "print(extracted_dates)\n",
    "\n"
   ]
  },
  {
   "cell_type": "code",
   "execution_count": 35,
   "id": "b3cc6b8e",
   "metadata": {},
   "outputs": [
    {
     "name": "stdout",
     "output_type": "stream",
     "text": [
      " following example creates  ArrayList  a capacity   elements. 4 elements   added   ArrayList   ArrayList  trimmed accordingly.\n"
     ]
    }
   ],
   "source": [
    "#Question 30\n",
    "\n",
    "import re\n",
    "\n",
    "def remove_words_between_length(input_string):\n",
    "    pattern = re.compile(r'\\b\\w{2,4}\\b')\n",
    "    cleaned_string = pattern.sub('', input_string)\n",
    "    return cleaned_string\n",
    "\n",
    "sample_text = \"The following example creates an ArrayList with a capacity of 50 elements. 4 elements are then added to the ArrayList and the ArrayList is trimmed accordingly.\"\n",
    "cleaned_text = remove_words_between_length(sample_text)\n",
    "\n",
    "print(cleaned_text)\n"
   ]
  },
  {
   "cell_type": "code",
   "execution_count": null,
   "id": "69f8e67b",
   "metadata": {},
   "outputs": [],
   "source": []
  }
 ],
 "metadata": {
  "kernelspec": {
   "display_name": "Python 3 (ipykernel)",
   "language": "python",
   "name": "python3"
  },
  "language_info": {
   "codemirror_mode": {
    "name": "ipython",
    "version": 3
   },
   "file_extension": ".py",
   "mimetype": "text/x-python",
   "name": "python",
   "nbconvert_exporter": "python",
   "pygments_lexer": "ipython3",
   "version": "3.9.12"
  }
 },
 "nbformat": 4,
 "nbformat_minor": 5
}
